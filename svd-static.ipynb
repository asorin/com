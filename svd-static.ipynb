{
 "metadata": {
  "name": "svd-static"
 }, 
 "nbformat": 2, 
 "worksheets": [
  {
   "cells": [
    {
     "cell_type": "code", 
     "collapsed": false, 
     "input": [
      "import networkx as nx", 
      "import numpy as np", 
      "from scipy.cluster.vq import vq, kmeans, whiten", 
      "import dcom", 
      "from dcom.source import *", 
      "from dcom.network_x import NetworkX", 
      "options = {\"action\":\"metrics\", ", 
      "           \"relative\":False, ", 
      "           \"period\":\"86400\",", 
      "           \"config\":\"conf/dcom.yml\",", 
      "           \"node\":None,", 
      "           \"ntype\":None,", 
      "           \"links\":\"data/southern/southern.dat\",", 
      "           \"output\":\"data/southern/southern_tfidf.dat\"", 
      "           }", 
      "dcom.read_config(options)", 
      "if options['output']:", 
      "    outf = open(options['output'],\"w\")", 
      "src = NetSource(\"\\t\", options[\"links\"], None, None, None)", 
      "net = NetworkX(options)", 
      "for link in src.links:", 
      "    net.addLink(link[0], link[1], link[2], link[3])", 
      "net.flush()"
     ], 
     "language": "python", 
     "outputs": [
      {
       "output_type": "stream", 
       "stream": "stdout", 
       "text": [
        "Loading links from data/southern/southern.dat", 
        "Loaded module 'date'", 
        "Loaded module 'prj-modularity-users'", 
        "Loaded module 'prj-modularity-objects'"
       ]
      }
     ], 
     "prompt_number": 1
    }, 
    {
     "cell_type": "code", 
     "collapsed": true, 
     "input": [
      "k=2", 
      "dim = round(log2(k))", 
      "nodes1 = [n for n,d in net.G.nodes(data=True) if d[\"type\"]==0]", 
      "nodesCount1 = size(nodes1)", 
      "nodes2 = [n for n,d in net.G.nodes(data=True) if d[\"type\"]==1]", 
      "A = nx.adjacency_matrix(net.G)[:nodesCount1,nodesCount1:]", 
      "D1 = sqrt(diag((net.G.degree(nodes1).values())))", 
      "D2 = sqrt(diag((net.G.degree(nodes2).values())))", 
      "An = D1 * A * D2", 
      "# SVD decomposition of A", 
      "U,s,V = np.linalg.svd(An)", 
      "#Z = np.concatenate((D1*U[:,1:1+dim], D2*V[:,1:1+dim]),axis=0)", 
      "Z = D1*U[:,1:1+dim]"
     ], 
     "language": "python", 
     "outputs": [], 
     "prompt_number": 2
    }, 
    {
     "cell_type": "code", 
     "collapsed": false, 
     "input": [
      "wZ = Z", 
      "centroids,_ = kmeans(wZ,2)", 
      "idx,_ = vq(wZ,centroids)", 
      "communities = {}", 
      "for i in range(0, len(idx)):", 
      "    if not idx[i] in communities:", 
      "        communities[idx[i]] = []", 
      "    communities[idx[i]].append(i+1)", 
      "", 
      "for c in communities.itervalues():", 
      "    print \" \".join(map(str, c))", 
      "#plot(Z[idx==0,0],Z[idx==0,1],'ob',", 
      "#     Z[idx==1,0],Z[idx==1,1],'or')", 
      "#plot(centroids[:,0],centroids[:,1],'sg',markersize=8)", 
      "#show()"
     ], 
     "language": "python", 
     "outputs": [
      {
       "output_type": "stream", 
       "stream": "stdout", 
       "text": [
        "1 2 3 4 5 6 7", 
        "8 9 10 11 12 13 14 15 16 17 18"
       ]
      }
     ], 
     "prompt_number": 19
    }
   ]
  }
 ]
}